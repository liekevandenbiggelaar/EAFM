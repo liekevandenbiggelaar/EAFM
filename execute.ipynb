{
 "cells": [
  {
   "cell_type": "code",
   "execution_count": 144,
   "metadata": {},
   "outputs": [],
   "source": [
    "import Simulation.EHR_sensitive as ehrsens\n",
    "from Simulation.loaddata import aggregate_dataset\n",
    "from Simulation.extract_feats import generate_features\n",
    "from Code.Analysis.compute_qualitymeasures import compute_qualitymeasures\n",
    "import Code.Beam_Search.beam_search as bs\n",
    "\n",
    "import pandas as pd\n",
    "import ast\n",
    "from collections import Counter"
   ]
  },
  {
   "cell_type": "markdown",
   "metadata": {},
   "source": [
    "This file is run to:\n",
    "* Generate the EHR data\n",
    "* Clean and extract features from the ECG signals\n",
    "* Aggregate the dataset into the wished format\n",
    "\n",
    "The only values to change are the ones in the codeblock below:\n"
   ]
  },
  {
   "cell_type": "code",
   "execution_count": 145,
   "metadata": {},
   "outputs": [],
   "source": [
    "# Only change these!\n",
    "dataset = 'CPSC'\n",
    "ehr_generate = False #Change to True if you actually want to generate new synthetic data\n",
    "do = False #Change to True if you actually want to run the feature extraction process\n",
    "exists = False #Change to True if you already have a dataset that you want to build on with the features\n",
    "aggregate = False #Change to True if you want to aggregate the dataset of features\n",
    "\n",
    "# Preferably, use the datasets as they are in this repository"
   ]
  },
  {
   "cell_type": "markdown",
   "metadata": {},
   "source": [
    "# Generate EHR\n"
   ]
  },
  {
   "cell_type": "code",
   "execution_count": 146,
   "metadata": {},
   "outputs": [],
   "source": [
    "if ehr_generate:\n",
    "    df_EHR = ehrsens.generate_EHR(dataset, vals = 97, other=True)\n",
    "    df_EHR.to_csv('Data/Synthetic EHR/synthetic_ehr.csv')\n",
    "\n",
    "df_EHR = pd.read_csv('Data/Synthetic EHR/synthetic_ehr.csv')\n"
   ]
  },
  {
   "cell_type": "markdown",
   "metadata": {},
   "source": [
    "# Generate features"
   ]
  },
  {
   "cell_type": "code",
   "execution_count": 147,
   "metadata": {},
   "outputs": [],
   "source": [
    "if do:\n",
    "    fts = generate_features(dataset)"
   ]
  },
  {
   "cell_type": "code",
   "execution_count": 148,
   "metadata": {},
   "outputs": [],
   "source": [
    "if do:\n",
    "    df_fts = pd.DataFrame.from_dict(fts)\n",
    "    df_fts.head()"
   ]
  },
  {
   "cell_type": "code",
   "execution_count": 149,
   "metadata": {},
   "outputs": [],
   "source": [
    "if do:\n",
    "    if not(exists):\n",
    "        df_fts.to_csv('Data/Processed ECG/synth_feats.csv', index=False) \n",
    "    else:\n",
    "        df_old = pd.read_csv('Data/Processed ECG/synth_feats.csv')\n",
    "        df_new = pd.concat([df_old, df_fts], axis=0)\n",
    "        df_new.to_csv('Data/Processed ECG/synth_feats.csv', index=False) "
   ]
  },
  {
   "cell_type": "code",
   "execution_count": null,
   "metadata": {},
   "outputs": [],
   "source": []
  },
  {
   "cell_type": "markdown",
   "metadata": {},
   "source": [
    "# Aggregate databse"
   ]
  },
  {
   "cell_type": "code",
   "execution_count": 150,
   "metadata": {},
   "outputs": [],
   "source": [
    "if aggregate:\n",
    "    df_old = pd.read_csv('Data/Processed ECG/synth_feats.csv')\n",
    "    df_agg = aggregate_dataset(df_old)\n",
    "\n",
    "    # Create a new database per patient, including which subgroup(s) it is included in and what they counter says\n",
    "    nonAF = []\n",
    "    AFpers = []\n",
    "    AFparo = []\n",
    "\n",
    "    for row in range(len(df_agg)):\n",
    "        pat = df_agg.iloc[row]\n",
    "        cs = Counter( ast.literal_eval(pat['AF']))\n",
    "        nonAF.append(cs['non atrial fibrillation'])\n",
    "        AFpers.append(cs['persistent atrial fibrillation'])\n",
    "        AFparo.append(cs['paroxysmal atrial fibrillation'])\n",
    "\n",
    "    df_agg['Non AF'] = nonAF\n",
    "    df_agg['Persistent AF'] = AFpers\n",
    "    df_agg['Paroxysmal AF'] = AFparo\n",
    "    df_agg.to_csv('synth_aggregated_feats.csv', index=False)"
   ]
  },
  {
   "cell_type": "markdown",
   "metadata": {},
   "source": [
    "# Get model class values"
   ]
  },
  {
   "cell_type": "code",
   "execution_count": 151,
   "metadata": {},
   "outputs": [],
   "source": [
    "path = 'Data/Processed ECG/synth_aggregated_feats.csv'\n",
    "savepath = 'Data/Processed ECG/synth_QualityMeasures.csv'\n",
    "\n",
    "doqm = False\n",
    "if doqm:\n",
    "    compute_qualitymeasures(path, savepath)\n",
    "\n",
    "qm = pd.read_csv(savepath)\n"
   ]
  },
  {
   "cell_type": "code",
   "execution_count": 152,
   "metadata": {},
   "outputs": [],
   "source": [
    "df_EHR['PID'] = [i for i in range(len(qm))]"
   ]
  },
  {
   "cell_type": "code",
   "execution_count": 153,
   "metadata": {},
   "outputs": [],
   "source": [
    "df_agg = pd.read_csv(\"Data/Processed ECG/synth_aggregated_feats.csv\")\n",
    "pid_eval = []\n",
    "AF_eval = []\n",
    "\n",
    "for r in range(len(df_agg)):\n",
    "    sel = df_agg.iloc[r]\n",
    "\n",
    "    if sel['Persistent AF'] != 0 or sel['Paroxysmal AF'] != 0:\n",
    "        pid_eval.append(sel['PID'])\n",
    "        AF_eval.append('AF')\n",
    "\n",
    "evaluation = pd.DataFrame()\n",
    "evaluation['PID'] = pid_eval\n",
    "evaluation['AF'] = AF_eval\n",
    "    "
   ]
  },
  {
   "cell_type": "code",
   "execution_count": 159,
   "metadata": {},
   "outputs": [
    {
     "name": "stdout",
     "output_type": "stream",
     "text": [
      "SDSD\n",
      "RMSSD\n",
      "SDRR\n",
      "P-count\n",
      "F-count\n",
      "SDSD_P\n",
      "RMSSD_P\n",
      "SDRR_P\n",
      "SDSD_F\n",
      "RMSSD_F\n",
      "SDRR_F\n"
     ]
    }
   ],
   "source": [
    "beamdo = True\n",
    "\n",
    "csize = round(0.05 * len(df_EHR))\n",
    "resset = 2\n",
    "\n",
    "if beamdo:\n",
    "    resultsDct = {'Theta': [], 'Rank': [], 'Description': [], 'QM': [], 'Indexes': []}\n",
    "    for opt in ['SDSD', 'RMSSD', 'SDRR', 'P-count', 'F-count', 'SDSD_P', 'RMSSD_P', 'SDRR_P', 'SDSD_F', 'RMSSD_F', 'SDRR_F']:\n",
    "        print(opt)\n",
    "        resultSet = bs.beam_search(df_EHR, qm, evaluation, theta = opt, q = resset, w = 50, d = 3, b = 3, c = csize)\n",
    "        resultsDct['Rank'] += [i for i in range(1, resset+1)]\n",
    "        resultsDct['Theta'] += [opt for i in range(1, resset+1)]\n",
    "        for res in resultSet:\n",
    "        \n",
    "            resultsDct['Description'].append([res[0]])\n",
    "            resultsDct['QM'].append(float(res[1]))\n",
    "            resultsDct['Indexes'].append([int(i) for i in res[2]])\n",
    "\n",
    "        resultSet = []\n",
    "        \n",
    "    df_results = pd.DataFrame.from_dict(resultsDct)\n",
    "    df_results.to_csv('Data/synth_results.csv', index=False)"
   ]
  },
  {
   "cell_type": "code",
   "execution_count": 160,
   "metadata": {},
   "outputs": [
    {
     "name": "stdout",
     "output_type": "stream",
     "text": [
      "Theta                                                       SDSD\n",
      "Rank                                                           1\n",
      "Description    [{'description': {'a43': ['Taken'], 'a1': (np....\n",
      "QM                                                           2.1\n",
      "Indexes                             [12, 36, 56, 63, 64, 79, 81]\n",
      "Name: 0, dtype: object\n",
      "Theta                                                       SDSD\n",
      "Rank                                                           2\n",
      "Description    [{'description': {'a43': ['Taken'], 'a1': (np....\n",
      "QM                                                          2.08\n",
      "Indexes                                     [12, 36, 56, 64, 79]\n",
      "Name: 1, dtype: object\n",
      "Theta                                                      RMSSD\n",
      "Rank                                                           1\n",
      "Description    [{'description': {'a43': ['Taken'], 'a1': (np....\n",
      "QM                                                          2.84\n",
      "Indexes                             [12, 36, 56, 63, 64, 79, 81]\n",
      "Name: 2, dtype: object\n",
      "Theta                                                      RMSSD\n",
      "Rank                                                           2\n",
      "Description    [{'description': {'a43': ['Taken'], 'a1': (np....\n",
      "QM                                                          2.72\n",
      "Indexes                                 [12, 36, 56, 63, 64, 81]\n",
      "Name: 3, dtype: object\n",
      "Theta                                                       SDRR\n",
      "Rank                                                           1\n",
      "Description    [{'description': {'a43': ['Taken'], 'a1': (np....\n",
      "QM                                                          2.15\n",
      "Indexes                             [12, 36, 56, 63, 64, 79, 81]\n",
      "Name: 4, dtype: object\n",
      "Theta                                                       SDRR\n",
      "Rank                                                           2\n",
      "Description    [{'description': {'a43': ['Taken'], 'a1': (np....\n",
      "QM                                                          2.01\n",
      "Indexes                             [12, 36, 40, 56, 64, 79, 81]\n",
      "Name: 5, dtype: object\n",
      "Theta                                                    P-count\n",
      "Rank                                                           1\n",
      "Description    [{'description': {'a26': ['Taken'], 'a1': (np....\n",
      "QM                                                          2.06\n",
      "Indexes                                 [32, 34, 67, 73, 87, 91]\n",
      "Name: 6, dtype: object\n",
      "Theta                                                    P-count\n",
      "Rank                                                           2\n",
      "Description    [{'description': {'a26': ['Taken'], 'a7': ['0....\n",
      "QM                                                          1.92\n",
      "Indexes                                 [13, 32, 34, 82, 87, 91]\n",
      "Name: 7, dtype: object\n",
      "Theta                                                    F-count\n",
      "Rank                                                           1\n",
      "Description    [{'description': {'a23': ['Taken'], 'a39': ['T...\n",
      "QM                                                          0.14\n",
      "Indexes                                     [13, 35, 70, 82, 90]\n",
      "Name: 8, dtype: object\n",
      "Theta                                                    F-count\n",
      "Rank                                                           2\n",
      "Description    [{'description': {'a23': ['Taken'], 'a39': ['T...\n",
      "QM                                                          0.13\n",
      "Indexes                                     [13, 35, 71, 82, 90]\n",
      "Name: 9, dtype: object\n",
      "Theta                                                     SDSD_P\n",
      "Rank                                                           1\n",
      "Description    [{'description': {'a43': ['Taken'], 'a1': (np....\n",
      "QM                                                          1.98\n",
      "Indexes                             [12, 36, 56, 63, 64, 79, 81]\n",
      "Name: 10, dtype: object\n",
      "Theta                                                     SDSD_P\n",
      "Rank                                                           2\n",
      "Description    [{'description': {'a31': ['Taken'], 'a45': ['T...\n",
      "QM                                                          1.85\n",
      "Indexes                                     [32, 35, 56, 77, 86]\n",
      "Name: 11, dtype: object\n",
      "Theta                                                    RMSSD_P\n",
      "Rank                                                           1\n",
      "Description    [{'description': {'a52': ['Taken'], 'a10': (np...\n",
      "QM                                                         12.23\n",
      "Indexes                                     [13, 36, 62, 84, 90]\n",
      "Name: 12, dtype: object\n",
      "Theta                                                    RMSSD_P\n",
      "Rank                                                           2\n",
      "Description    [{'description': {'a1': (np.float64(50.0), np....\n",
      "QM                                                         11.75\n",
      "Indexes                                     [56, 58, 62, 67, 77]\n",
      "Name: 13, dtype: object\n",
      "Theta                                                     SDRR_P\n",
      "Rank                                                           1\n",
      "Description    [{'description': {'a34': ['Taken'], 'a55': ['N...\n",
      "QM                                                          7.46\n",
      "Indexes                                      [3, 39, 62, 77, 96]\n",
      "Name: 14, dtype: object\n",
      "Theta                                                     SDRR_P\n",
      "Rank                                                           2\n",
      "Description    [{'description': {'a34': ['Taken'], 'a8': (np....\n",
      "QM                                                          7.26\n",
      "Indexes                                     [39, 62, 67, 77, 96]\n",
      "Name: 15, dtype: object\n",
      "Theta                                                     SDSD_F\n",
      "Rank                                                           1\n",
      "Description    [{'description': {'a45': ['Taken'], 'a31': ['T...\n",
      "QM                                                          2.04\n",
      "Indexes                                     [32, 35, 56, 77, 86]\n",
      "Name: 16, dtype: object\n",
      "Theta                                                     SDSD_F\n",
      "Rank                                                           2\n",
      "Description    [{'description': {'a31': ['Taken'], 'a38': ['N...\n",
      "QM                                                          1.95\n",
      "Indexes                             [13, 35, 56, 71, 77, 86, 88]\n",
      "Name: 17, dtype: object\n",
      "Theta                                                    RMSSD_F\n",
      "Rank                                                           1\n",
      "Description    [{'description': {'a52': ['Taken'], 'a10': (np...\n",
      "QM                                                         12.23\n",
      "Indexes                                     [13, 36, 62, 84, 90]\n",
      "Name: 18, dtype: object\n",
      "Theta                                                    RMSSD_F\n",
      "Rank                                                           2\n",
      "Description    [{'description': {'a1': (np.float64(50.0), np....\n",
      "QM                                                         11.75\n",
      "Indexes                                     [56, 58, 62, 67, 77]\n",
      "Name: 19, dtype: object\n",
      "Theta                                                     SDRR_F\n",
      "Rank                                                           1\n",
      "Description    [{'description': {'a31': ['Taken'], 'a2': ['Fe...\n",
      "QM                                                          2.32\n",
      "Indexes                                 [31, 32, 35, 56, 77, 87]\n",
      "Name: 20, dtype: object\n",
      "Theta                                                     SDRR_F\n",
      "Rank                                                           2\n",
      "Description    [{'description': {'a31': ['Taken'], 'a2': ['Fe...\n",
      "QM                                                          2.14\n",
      "Indexes                              [5, 31, 32, 35, 56, 77, 87]\n",
      "Name: 21, dtype: object\n"
     ]
    }
   ],
   "source": [
    "df_results = pd.read_csv(\"Data/synth_results.csv\")\n",
    "for res in range(len(df_results)):\n",
    "    print(df_results.iloc[res])"
   ]
  },
  {
   "cell_type": "code",
   "execution_count": null,
   "metadata": {},
   "outputs": [],
   "source": []
  }
 ],
 "metadata": {
  "kernelspec": {
   "display_name": "EAFM",
   "language": "python",
   "name": "python3"
  },
  "language_info": {
   "codemirror_mode": {
    "name": "ipython",
    "version": 3
   },
   "file_extension": ".py",
   "mimetype": "text/x-python",
   "name": "python",
   "nbconvert_exporter": "python",
   "pygments_lexer": "ipython3",
   "version": "3.11.10"
  }
 },
 "nbformat": 4,
 "nbformat_minor": 2
}
